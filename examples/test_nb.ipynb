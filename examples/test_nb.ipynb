{
 "cells": [
  {
   "cell_type": "code",
   "execution_count": 1,
   "metadata": {},
   "outputs": [],
   "source": [
    "import os, sys\n",
    "from pathlib import Path\n",
    "import numpy as np\n",
    "import pandas as pd\n",
    "sys.path.append(str(\"/home/alessio/dr_sasa_python/build/lib\"))\n",
    "sys.path.append(str(\"/home/alessio/dr_sasa_python/bindings/python/utils\"))\n",
    "import dr_sasa_py\n",
    "from structure_parser import *\n",
    "from utils import convert_to_dataframes, plot_results"
   ]
  },
  {
   "cell_type": "code",
   "execution_count": 2,
   "metadata": {},
   "outputs": [
    {
     "name": "stdout",
     "output_type": "stream",
     "text": [
      "A <--- B buried surface (A^2):\t4293\n",
      "A ---> B buried surface (A^2):\t4532.51\n",
      "Interface A/B (A^2):\t4412.76\n"
     ]
    }
   ],
   "source": [
    "test_pdb = \"/home/alessio/dr_sasa_python/data/PRODIGYdataset_fixed/1A2K.pdb\"\n",
    "calc = dr_sasa_py.DecoupledSASA(probe_radius=1.4)\n",
    "result = calc.calculate(str(test_pdb), chains=[[\"A\"], [\"B\"]], include_matrix=True, print_output=True)"
   ]
  },
  {
   "cell_type": "code",
   "execution_count": 3,
   "metadata": {},
   "outputs": [
    {
     "name": "stdout",
     "output_type": "stream",
     "text": [
      "Object A complexed surface (A^2):\t8980.92\n",
      "Object B complexed surface (A^2):\t11044.7\n",
      "Object A uncomplexed surface (A^2):\t9851.83\n",
      "Object B uncomplexed surface (A^2):\t11776.2\n",
      "A <--- B buried surface (A^2):\t870.908\n",
      "A ---> B buried surface (A^2):\t731.473\n",
      "Interface A/B (A^2):\t801.191\n"
     ]
    }
   ],
   "source": [
    "test_pdb = \"/home/alessio/dr_sasa_python/data/PRODIGYdataset_fixed/1A2K.pdb\"\n",
    "calc = dr_sasa_py.GenericSASA(probe_radius=1.4)\n",
    "result = calc.calculate(str(test_pdb), chains=[[\"A\"], [\"B\"]], include_matrix=True, print_output=True)\n",
    "dfs = convert_to_dataframes(result)\n",
    "#plot_results(dfs, output_dir=Path(\"/home/alessio/dr_sasa_python\"))"
   ]
  },
  {
   "cell_type": "code",
   "execution_count": 29,
   "metadata": {},
   "outputs": [
    {
     "data": {
      "text/html": [
       "<div>\n",
       "<style scoped>\n",
       "    .dataframe tbody tr th:only-of-type {\n",
       "        vertical-align: middle;\n",
       "    }\n",
       "\n",
       "    .dataframe tbody tr th {\n",
       "        vertical-align: top;\n",
       "    }\n",
       "\n",
       "    .dataframe thead th {\n",
       "        text-align: right;\n",
       "    }\n",
       "</style>\n",
       "<table border=\"1\" class=\"dataframe\">\n",
       "  <thead>\n",
       "    <tr style=\"text-align: right;\">\n",
       "      <th></th>\n",
       "      <th>atom_id</th>\n",
       "      <th>overlap_index</th>\n",
       "      <th>atoms</th>\n",
       "      <th>area</th>\n",
       "      <th>normalized_area</th>\n",
       "      <th>buried_area</th>\n",
       "    </tr>\n",
       "  </thead>\n",
       "  <tbody>\n",
       "    <tr>\n",
       "      <th>0</th>\n",
       "      <td>1</td>\n",
       "      <td>0</td>\n",
       "      <td>399,402</td>\n",
       "      <td>0.371795</td>\n",
       "      <td>0.185898</td>\n",
       "      <td>6.986654</td>\n",
       "    </tr>\n",
       "    <tr>\n",
       "      <th>1</th>\n",
       "      <td>1</td>\n",
       "      <td>1</td>\n",
       "      <td>402</td>\n",
       "      <td>0.061966</td>\n",
       "      <td>0.061966</td>\n",
       "      <td>0.433761</td>\n",
       "    </tr>\n",
       "    <tr>\n",
       "      <th>2</th>\n",
       "      <td>1</td>\n",
       "      <td>2</td>\n",
       "      <td>400</td>\n",
       "      <td>1.014691</td>\n",
       "      <td>1.014691</td>\n",
       "      <td>1.820248</td>\n",
       "    </tr>\n",
       "    <tr>\n",
       "      <th>3</th>\n",
       "      <td>1</td>\n",
       "      <td>3</td>\n",
       "      <td>399,400</td>\n",
       "      <td>0.968217</td>\n",
       "      <td>0.484109</td>\n",
       "      <td>0.642896</td>\n",
       "    </tr>\n",
       "    <tr>\n",
       "      <th>4</th>\n",
       "      <td>1</td>\n",
       "      <td>4</td>\n",
       "      <td>399</td>\n",
       "      <td>0.147169</td>\n",
       "      <td>0.147169</td>\n",
       "      <td>1.425215</td>\n",
       "    </tr>\n",
       "    <tr>\n",
       "      <th>...</th>\n",
       "      <td>...</td>\n",
       "      <td>...</td>\n",
       "      <td>...</td>\n",
       "      <td>...</td>\n",
       "      <td>...</td>\n",
       "      <td>...</td>\n",
       "    </tr>\n",
       "    <tr>\n",
       "      <th>5722</th>\n",
       "      <td>412</td>\n",
       "      <td>27</td>\n",
       "      <td>0,1,25,26</td>\n",
       "      <td>0.678910</td>\n",
       "      <td>0.169728</td>\n",
       "      <td>0.124032</td>\n",
       "    </tr>\n",
       "    <tr>\n",
       "      <th>5723</th>\n",
       "      <td>412</td>\n",
       "      <td>28</td>\n",
       "      <td>0,1,2,25,26</td>\n",
       "      <td>0.293759</td>\n",
       "      <td>0.058752</td>\n",
       "      <td>0.045696</td>\n",
       "    </tr>\n",
       "    <tr>\n",
       "      <th>5724</th>\n",
       "      <td>412</td>\n",
       "      <td>29</td>\n",
       "      <td>1,25,26</td>\n",
       "      <td>0.169728</td>\n",
       "      <td>0.056576</td>\n",
       "      <td>0.013056</td>\n",
       "    </tr>\n",
       "    <tr>\n",
       "      <th>5725</th>\n",
       "      <td>412</td>\n",
       "      <td>30</td>\n",
       "      <td>25,26</td>\n",
       "      <td>0.039168</td>\n",
       "      <td>0.019584</td>\n",
       "      <td>0.045696</td>\n",
       "    </tr>\n",
       "    <tr>\n",
       "      <th>5726</th>\n",
       "      <td>412</td>\n",
       "      <td>31</td>\n",
       "      <td>0,1</td>\n",
       "      <td>0.672382</td>\n",
       "      <td>0.336191</td>\n",
       "      <td>0.163200</td>\n",
       "    </tr>\n",
       "  </tbody>\n",
       "</table>\n",
       "<p>5727 rows × 6 columns</p>\n",
       "</div>"
      ],
      "text/plain": [
       "      atom_id  overlap_index        atoms      area  normalized_area  \\\n",
       "0           1              0      399,402  0.371795         0.185898   \n",
       "1           1              1          402  0.061966         0.061966   \n",
       "2           1              2          400  1.014691         1.014691   \n",
       "3           1              3      399,400  0.968217         0.484109   \n",
       "4           1              4          399  0.147169         0.147169   \n",
       "...       ...            ...          ...       ...              ...   \n",
       "5722      412             27    0,1,25,26  0.678910         0.169728   \n",
       "5723      412             28  0,1,2,25,26  0.293759         0.058752   \n",
       "5724      412             29      1,25,26  0.169728         0.056576   \n",
       "5725      412             30        25,26  0.039168         0.019584   \n",
       "5726      412             31          0,1  0.672382         0.336191   \n",
       "\n",
       "      buried_area  \n",
       "0        6.986654  \n",
       "1        0.433761  \n",
       "2        1.820248  \n",
       "3        0.642896  \n",
       "4        1.425215  \n",
       "...           ...  \n",
       "5722     0.124032  \n",
       "5723     0.045696  \n",
       "5724     0.013056  \n",
       "5725     0.045696  \n",
       "5726     0.163200  \n",
       "\n",
       "[5727 rows x 6 columns]"
      ]
     },
     "execution_count": 29,
     "metadata": {},
     "output_type": "execute_result"
    }
   ],
   "source": [
    "dfs[\"overlaps\"]"
   ]
  },
  {
   "cell_type": "code",
   "execution_count": 30,
   "metadata": {},
   "outputs": [
    {
     "data": {
      "text/html": [
       "<div>\n",
       "<style scoped>\n",
       "    .dataframe tbody tr th:only-of-type {\n",
       "        vertical-align: middle;\n",
       "    }\n",
       "\n",
       "    .dataframe tbody tr th {\n",
       "        vertical-align: top;\n",
       "    }\n",
       "\n",
       "    .dataframe thead th {\n",
       "        text-align: right;\n",
       "    }\n",
       "</style>\n",
       "<table border=\"1\" class=\"dataframe\">\n",
       "  <thead>\n",
       "    <tr style=\"text-align: right;\">\n",
       "      <th></th>\n",
       "      <th>atom_id</th>\n",
       "      <th>contact_id</th>\n",
       "      <th>area</th>\n",
       "      <th>distance</th>\n",
       "    </tr>\n",
       "  </thead>\n",
       "  <tbody>\n",
       "    <tr>\n",
       "      <th>0</th>\n",
       "      <td>2</td>\n",
       "      <td>400</td>\n",
       "      <td>0.934863</td>\n",
       "      <td>4.012234</td>\n",
       "    </tr>\n",
       "    <tr>\n",
       "      <th>1</th>\n",
       "      <td>11</td>\n",
       "      <td>364</td>\n",
       "      <td>0.276007</td>\n",
       "      <td>5.438001</td>\n",
       "    </tr>\n",
       "    <tr>\n",
       "      <th>2</th>\n",
       "      <td>11</td>\n",
       "      <td>373</td>\n",
       "      <td>8.921265</td>\n",
       "      <td>5.953356</td>\n",
       "    </tr>\n",
       "    <tr>\n",
       "      <th>3</th>\n",
       "      <td>11</td>\n",
       "      <td>374</td>\n",
       "      <td>9.962968</td>\n",
       "      <td>4.503345</td>\n",
       "    </tr>\n",
       "    <tr>\n",
       "      <th>4</th>\n",
       "      <td>11</td>\n",
       "      <td>376</td>\n",
       "      <td>4.229141</td>\n",
       "      <td>4.265195</td>\n",
       "    </tr>\n",
       "    <tr>\n",
       "      <th>...</th>\n",
       "      <td>...</td>\n",
       "      <td>...</td>\n",
       "      <td>...</td>\n",
       "      <td>...</td>\n",
       "    </tr>\n",
       "    <tr>\n",
       "      <th>593</th>\n",
       "      <td>412</td>\n",
       "      <td>2</td>\n",
       "      <td>16.705109</td>\n",
       "      <td>4.450028</td>\n",
       "    </tr>\n",
       "    <tr>\n",
       "      <th>594</th>\n",
       "      <td>412</td>\n",
       "      <td>3</td>\n",
       "      <td>12.683871</td>\n",
       "      <td>5.513039</td>\n",
       "    </tr>\n",
       "    <tr>\n",
       "      <th>595</th>\n",
       "      <td>412</td>\n",
       "      <td>4</td>\n",
       "      <td>0.763774</td>\n",
       "      <td>4.440271</td>\n",
       "    </tr>\n",
       "    <tr>\n",
       "      <th>596</th>\n",
       "      <td>412</td>\n",
       "      <td>5</td>\n",
       "      <td>10.235878</td>\n",
       "      <td>5.757568</td>\n",
       "    </tr>\n",
       "    <tr>\n",
       "      <th>597</th>\n",
       "      <td>412</td>\n",
       "      <td>26</td>\n",
       "      <td>1.181565</td>\n",
       "      <td>4.764210</td>\n",
       "    </tr>\n",
       "  </tbody>\n",
       "</table>\n",
       "<p>598 rows × 4 columns</p>\n",
       "</div>"
      ],
      "text/plain": [
       "     atom_id  contact_id       area  distance\n",
       "0          2         400   0.934863  4.012234\n",
       "1         11         364   0.276007  5.438001\n",
       "2         11         373   8.921265  5.953356\n",
       "3         11         374   9.962968  4.503345\n",
       "4         11         376   4.229141  4.265195\n",
       "..       ...         ...        ...       ...\n",
       "593      412           2  16.705109  4.450028\n",
       "594      412           3  12.683871  5.513039\n",
       "595      412           4   0.763774  4.440271\n",
       "596      412           5  10.235878  5.757568\n",
       "597      412          26   1.181565  4.764210\n",
       "\n",
       "[598 rows x 4 columns]"
      ]
     },
     "execution_count": 30,
     "metadata": {},
     "output_type": "execute_result"
    }
   ],
   "source": [
    "dfs[\"contacts\"]"
   ]
  },
  {
   "cell_type": "code",
   "execution_count": null,
   "metadata": {},
   "outputs": [],
   "source": [
    "dfs = convert_to_dataframes(result)\n",
    "dfs.keys()"
   ]
  },
  {
   "cell_type": "code",
   "execution_count": null,
   "metadata": {},
   "outputs": [],
   "source": [
    "overlaps = dfs[\"overlaps\"]\n",
    "atoms = dfs[\"atoms\"]\n",
    "residues = dfs[\"residues\"]\n",
    "contacts = dfs[\"contacts\"]\n",
    "overlaps.overlap_area.sum()/2 #Interface A/B (A^2):\t766.656"
   ]
  },
  {
   "cell_type": "code",
   "execution_count": null,
   "metadata": {},
   "outputs": [],
   "source": [
    "result[\"atom_data\"]"
   ]
  },
  {
   "cell_type": "code",
   "execution_count": null,
   "metadata": {},
   "outputs": [],
   "source": [
    "result[\"intra_bsa_matrix\"][\"atom_matrix\"].sum()/2\n",
    "overlaps[overlaps[\"source_residue\"].str.startswith(\"B_\")].overlap_area.sum()\n",
    "overlaps[overlaps[\"source_residue\"].str.startswith(\"C_\")].overlap_area.sum()"
   ]
  },
  {
   "cell_type": "code",
   "execution_count": null,
   "metadata": {},
   "outputs": [],
   "source": [
    "overlaps[overlaps[\"source_residue\"].str.startswith(\"B_\")].overlap_area.sum() #A <--- B buried surface (A^2):\t791.494\n",
    "result[\"inter_bsa_matrix\"][\"B_vs_C\"][\"matrix\"].sum()"
   ]
  },
  {
   "cell_type": "code",
   "execution_count": null,
   "metadata": {},
   "outputs": [],
   "source": [
    "overlaps[overlaps[\"source_residue\"].str.startswith(\"A_\")].overlap_area.sum() #A <--- B buried surface (A^2):\t791.494\n",
    "result[\"intra_bsa_matrix\"][\"residue_matrix\"][:len(residues[residues.chain ==\"A\"].index)].sum() # same as #A <--- B buried surface (A^2):\t791.494\n",
    "result[\"inter_bsa_matrix\"][\"A_vs_B\"][\"matrix\"].sum()"
   ]
  },
  {
   "cell_type": "code",
   "execution_count": null,
   "metadata": {},
   "outputs": [],
   "source": [
    "dfs = convert_to_dataframes(result)\n",
    "overlaps = dfs[\"overlaps\"]\n",
    "atoms = dfs[\"atoms\"]\n",
    "residues = dfs[\"residues\"]"
   ]
  },
  {
   "cell_type": "code",
   "execution_count": null,
   "metadata": {},
   "outputs": [],
   "source": [
    "atoms"
   ]
  },
  {
   "cell_type": "code",
   "execution_count": null,
   "metadata": {},
   "outputs": [],
   "source": [
    "overlaps"
   ]
  },
  {
   "cell_type": "code",
   "execution_count": null,
   "metadata": {},
   "outputs": [],
   "source": [
    "test_pdb = \"/home/alessio/dr_sasa_python/tests/data/pred.pdb\"\n",
    "calc = dr_sasa_py.GenericSASA(probe_radius=1.4)\n",
    "result = calc.calculate(str(test_pdb), print_output=True)"
   ]
  },
  {
   "cell_type": "code",
   "execution_count": null,
   "metadata": {},
   "outputs": [],
   "source": [
    "test_pdb = \"/home/alessio/dr_sasa_python/tests/data/pred.pdb\"\n",
    "calc = dr_sasa_py.GenericSASA(probe_radius=1.4)\n",
    "result = calc.calculate(str(test_pdb), include_matrix=True, print_output=True)\n",
    "dfs = convert_to_dataframes(result)\n",
    "overlaps = dfs[\"overlaps\"]\n",
    "atoms = dfs[\"atoms\"]\n",
    "residues = dfs[\"residues\"]\n",
    "overlaps[overlaps[\"source_residue\"].str.startswith(\"A_\")].overlap_area.sum() #A <--- B buried surface (A^2):\t791.494\n",
    "result[\"intra_bsa_matrix\"][\"residue_matrix\"][:len(residues[residues.chain ==\"A\"].index)].sum() # same as #A <--- B buried surface (A^2):\t791.494\n",
    "result[\"inter_bsa_matrix\"][\"A_vs_B\"][\"matrix\"].sum()\n",
    "##\n",
    "overlaps[overlaps[\"source_residue\"].str.startswith(\"B_\")].overlap_area.sum() #A ---> B buried surface (A^2):\t741.817\n",
    "result[\"intra_bsa_matrix\"][\"residue_matrix\"][len(residues[residues.chain ==\"A\"].index):].sum() # same as A ---> B buried surface (A^2):\t741.817\n",
    "result[\"inter_bsa_matrix\"][\"B_vs_A\"][\"matrix\"].sum()\n",
    "##\n",
    "overlaps.overlap_area.sum()/2 #Interface A/B (A^2):\t766.656\n",
    "result[\"intra_bsa_matrix\"][\"atom_matrix\"].sum()/2\n",
    "##\n",
    "atoms[atoms.chain == \"A\"].sasa.sum() #Object A complexed surface (A^2):\t1198.94 calculation based on atom contact surfaces\n",
    "residues[residues.chain == \"A\"].dsasa.sum() # close values (calculated based on standards NACESS sasa values of per residues)\n",
    "atoms[atoms.chain == \"B\"].sasa.sum() #Object B complexed surface (A^2):\t2165.03\n",
    "## \n",
    "atoms.sasa.sum() #Selected complex surface (A^2):\t3363.97\n",
    "#\n",
    "overlaps[overlaps[\"source_residue\"].str.startswith(\"A_\")].overlap_area.sum() + atoms[atoms.chain == \"A\"].sasa.sum() #  Object A uncomplexed surface (A^2):\t1990.44\n",
    "residues[residues.chain == \"A\"].dsasa.sum()\n"
   ]
  },
  {
   "cell_type": "code",
   "execution_count": null,
   "metadata": {},
   "outputs": [],
   "source": [
    "test_pdb = \"/home/alessio/dr_sasa_python/tests/data/6gwp.pdb\"\n",
    "calc = dr_sasa_py.GenericSASA(probe_radius=1.4)\n",
    "result = calc.calculate(str(test_pdb), chains=[[\"A\"], [\"B\"]], print_output=False)"
   ]
  },
  {
   "cell_type": "code",
   "execution_count": null,
   "metadata": {},
   "outputs": [],
   "source": [
    "result"
   ]
  },
  {
   "cell_type": "code",
   "execution_count": null,
   "metadata": {},
   "outputs": [],
   "source": [
    "np.asarray([result[\"atom_data\"][str(i)][\"sasa\"] for i in list(result[\"atom_data\"].keys())])"
   ]
  },
  {
   "cell_type": "code",
   "execution_count": null,
   "metadata": {},
   "outputs": [],
   "source": [
    "def calculate_dr_sasa(pdb_file):\n",
    "    calculator = dr_sasa_py.SimpleSASA(probe_radius=1.4)\n",
    "    result = calculator.calculate(str(pdb_file), print_output=True) \n",
    "    return np.asarray([result[\"atom_data\"][str(i)][\"sasa\"] for i in list(result[\"atom_data\"].keys())])"
   ]
  },
  {
   "cell_type": "code",
   "execution_count": null,
   "metadata": {},
   "outputs": [],
   "source": [
    "p = \"/home/alessio/dr_sasa_python/tests/data/9f5l.pdb\"\n",
    "v = calculate_dr_sasa(p)"
   ]
  },
  {
   "cell_type": "code",
   "execution_count": null,
   "metadata": {},
   "outputs": [],
   "source": [
    "from Bio.PDB import *\n",
    "\n",
    "files = [\n",
    "   \"1A2K.atmasa\",\n",
    "   \"1ACB.atmasa\", \n",
    "   \"1AK4.atmasa\",\n",
    "   \"1AKJ.atmasa\",\n",
    "   \"1ATN.atmasa\",\n",
    "   \"1AVZ.atmasa\",\n",
    "   \"1B6C.atmasa\",\n",
    "   \"1BJ1.atmasa\",\n",
    "   \"1BUH.atmasa\",\n",
    "   \"1BVK.atmasa\"\n",
    "]\n",
    "\n",
    "c_sasa = {}\n",
    "py_sasa = {}\n",
    "\n",
    "for id_ in files:\n",
    "   # Get C++ SASA values from CSV\n",
    "   c_sasa[id_] = pd.read_csv(f\"/home/alessio/dr_sasa_python/{id_}\", sep=\"\\t\")[\"total_ASA\"].tolist()\n",
    "   \n",
    "   # Get Python SASA values from PDB\n",
    "   pdb_file = f\"/home/alessio/dr_sasa_python/data/PRODIGYdataset_fixed/{id_.split('.')[0]}.pdb\"\n",
    "   py_sasa[id_] = calculate_dr_sasa(pdb_file)\n",
    "   break\n",
    "# Create DataFrame\n",
    "df = pd.DataFrame({\n",
    "   'pdb': list(c_sasa.keys()),\n",
    "   'c_sasa': list(c_sasa.values()),\n",
    "   'py_sasa': list(py_sasa.values())\n",
    "})\n",
    "\n",
    "\n",
    "    "
   ]
  },
  {
   "cell_type": "code",
   "execution_count": null,
   "metadata": {},
   "outputs": [],
   "source": [
    "import seaborn as sns\n",
    "import matplotlib.pyplot as plt\n",
    "\n",
    "for index, row in df.iterrows():\n",
    "    plt.figure(figsize=(10, 6))\n",
    "    sns.scatterplot(x=row['c_sasa'][::100], y=row['py_sasa'][::100])\n",
    "    plt.plot([0, max(row['c_sasa'])], [0, max(row['c_sasa'])], '--k')  # diagonal line\n",
    "    plt.xlabel('C++ SASA Values')\n",
    "    plt.ylabel('Python SASA Values') \n",
    "    plt.title(f'SASA Comparison for {row[\"pdb\"]}')\n",
    "    plt.show()\n"
   ]
  },
  {
   "cell_type": "code",
   "execution_count": null,
   "metadata": {},
   "outputs": [],
   "source": [
    "sns.scatterplot(x=df.c_sasa)"
   ]
  },
  {
   "cell_type": "code",
   "execution_count": null,
   "metadata": {},
   "outputs": [],
   "source": [
    "pd.read_csv(f\"/home/alessio/dr_sasa_python/{id_}\", sep=\"\\t\")"
   ]
  },
  {
   "cell_type": "code",
   "execution_count": null,
   "metadata": {},
   "outputs": [],
   "source": [
    "result[\"atom_data\"].keys()"
   ]
  },
  {
   "cell_type": "code",
   "execution_count": null,
   "metadata": {},
   "outputs": [],
   "source": [
    "dfs = convert_to_dataframes(result)\n",
    "overlaps = dfs[\"overlaps\"]\n",
    "atoms = dfs[\"atoms\"]\n",
    "residues = dfs[\"residues\"]"
   ]
  },
  {
   "cell_type": "code",
   "execution_count": null,
   "metadata": {},
   "outputs": [],
   "source": [
    "test_pdb = \"/home/alessio/dr_sasa_python/tests/data/3i40.pdb\"\n",
    "calc = dr_sasa_py.DecoupledSASA(probe_radius=1.4)\n",
    "result = calc.calculate(str(test_pdb))\n",
    "result[\"residue_data\"]"
   ]
  },
  {
   "cell_type": "code",
   "execution_count": null,
   "metadata": {},
   "outputs": [],
   "source": [
    "test_pdb = \"/home/alessio/dr_sasa_python/PRODIGYdataset/1E6E.pdb\"\n",
    "calc = dr_sasa_py.DecoupdledSASA(probe_radius=1.4)\n",
    "result = calc.calculate(str(test_pdb), include_matrix=True, print_output=True)\n",
    "dfs = convert_to_dataframes(result)\n",
    "overlaps = dfs[\"overlaps\"]\n",
    "atoms = dfs[\"atoms\"]\n",
    "residues = dfs[\"residues\"]\n",
    "overlaps[overlaps[\"source_residue\"].str.startswith(\"A_\")].overlap_area.sum() #A <--- B buried surface (A^2):\t791.494\n",
    "result[\"intra_bsa_matrix\"][\"residue_matrix\"][:len(residues[residues.chain ==\"A\"].index)].sum() # same as #A <--- B buried surface (A^2):\t791.494\n",
    "result[\"inter_bsa_matrix\"][\"A_vs_B\"][\"matrix\"].sum()\n",
    "##\n",
    "overlaps[overlaps[\"source_residue\"].str.startswith(\"B_\")].overlap_area.sum() #A ---> B buried surface (A^2):\t741.817\n",
    "result[\"intra_bsa_matrix\"][\"residue_matrix\"][len(residues[residues.chain ==\"A\"].index):].sum() # same as A ---> B buried surface (A^2):\t741.817\n",
    "result[\"inter_bsa_matrix\"][\"B_vs_A\"][\"matrix\"].sum()\n",
    "##\n",
    "overlaps.overlap_area.sum()/2 #Interface A/B (A^2):\t766.656\n",
    "result[\"intra_bsa_matrix\"][\"atom_matrix\"].sum()/2\n",
    "##\n",
    "atoms[atoms.chain == \"A\"].sasa.sum() #Object A complexed surface (A^2):\t1198.94 calculation based on atom contact surfaces\n",
    "residues[residues.chain == \"A\"].dsasa.sum() # close values (calculated based on standards NACESS sasa values of per residues)\n",
    "atoms[atoms.chain == \"B\"].sasa.sum() #Object B complexed surface (A^2):\t2165.03\n",
    "## \n",
    "atoms.sasa.sum() #Selected complex surface (A^2):\t3363.97\n",
    "#\n",
    "overlaps[overlaps[\"source_residue\"].str.startswith(\"A_\")].overlap_area.sum() + atoms[atoms.chain == \"A\"].sasa.sum() #  Object A uncomplexed surface (A^2):\t1990.44\n",
    "residues[residues.chain == \"A\"].dsasa.sum()"
   ]
  },
  {
   "cell_type": "code",
   "execution_count": null,
   "metadata": {},
   "outputs": [],
   "source": [
    "residues[residues.chain == \"A\"].dsasa.sum() - residues[residues.chain == \"A\"].total_sasa.sum()\n",
    "residues[residues.chain == \"B\"].dsasa.sum() - residues[residues.chain == \"B\"].total_sasa.sum()"
   ]
  },
  {
   "cell_type": "code",
   "execution_count": null,
   "metadata": {},
   "outputs": [],
   "source": [
    "residues.dsasa.sum() - "
   ]
  },
  {
   "cell_type": "code",
   "execution_count": null,
   "metadata": {},
   "outputs": [],
   "source": [
    "residues[residues.chain == \"B\"].dsasa.sum()"
   ]
  },
  {
   "cell_type": "code",
   "execution_count": null,
   "metadata": {},
   "outputs": [],
   "source": [
    "residues[residues.chain == \"B\"].total_sasa.sum()"
   ]
  },
  {
   "cell_type": "code",
   "execution_count": null,
   "metadata": {},
   "outputs": [],
   "source": [
    "result[\"intra_bsa_matrix\"][\"residue_matrix\"][:21].sum()\n",
    "result[\"inter_bsa_matrix\"][\"B_vs_A\"][\"matrix\"].sum()"
   ]
  },
  {
   "cell_type": "code",
   "execution_count": null,
   "metadata": {},
   "outputs": [],
   "source": [
    "residues[residues.chain == \"A\"].dsasa.sum()"
   ]
  },
  {
   "cell_type": "code",
   "execution_count": null,
   "metadata": {},
   "outputs": [],
   "source": [
    "residues = dfs[\"residues\"]\n",
    "residues[residues.chain == \"A\"].standard_sasa.sum()"
   ]
  },
  {
   "cell_type": "markdown",
   "metadata": {},
   "source": [
    "Object A complexed surface (A^2):\t1201.52\n",
    "Object B complexed surface (A^2):\t2161.36\n",
    "Object A uncomplexed surface (A^2):\t1998.48\n",
    "Object B uncomplexed surface (A^2):\t2905.35\n",
    "A <--- B buried surface (A^2):\t796.957\n",
    "A ---> B buried surface (A^2):\t743.99\n",
    "Interface A/B (A^2):\t770.474"
   ]
  },
  {
   "cell_type": "markdown",
   "metadata": {},
   "source": [
    "Selected complex surface (A^2):\t3363.97\n",
    "Object A complexed surface (A^2):\t1198.94\n",
    "Object B complexed surface (A^2):\t2165.03\n",
    "Object A uncomplexed surface (A^2):\t1990.44\n",
    "Object B uncomplexed surface (A^2):\t2906.85\n",
    "A <--- B buried surface (A^2):\t791.494\n",
    "A ---> B buried surface (A^2):\t741.817\n",
    "Interface A/B (A^2):\t766.656"
   ]
  },
  {
   "cell_type": "markdown",
   "metadata": {},
   "source": []
  },
  {
   "cell_type": "code",
   "execution_count": null,
   "metadata": {},
   "outputs": [],
   "source": [
    "test_pdb = \"/home/alessio/dr_sasa_python/tests/data/3i40.pdb\"\n",
    "calc = dr_sasa_py.DecoupledSASA(probe_radius=1.4)\n",
    "result = calc.calculate(str(test_pdb), chains=[['A']], print_output=True)"
   ]
  },
  {
   "cell_type": "code",
   "execution_count": null,
   "metadata": {},
   "outputs": [],
   "source": [
    "result"
   ]
  },
  {
   "cell_type": "code",
   "execution_count": null,
   "metadata": {},
   "outputs": [],
   "source": [
    "pd.read_csv(\"/home/alessio/dr_sasa_python/tests/test_results/3i40.atmasa\", sep=\"\\t\")\n",
    "pd.read_csv(\"/home/alessio/dr_sasa_python/my_analysis\", sep=\"\\t\")"
   ]
  }
 ],
 "metadata": {
  "kernelspec": {
   "display_name": "dr_sasa_venv",
   "language": "python",
   "name": "python3"
  },
  "language_info": {
   "codemirror_mode": {
    "name": "ipython",
    "version": 3
   },
   "file_extension": ".py",
   "mimetype": "text/x-python",
   "name": "python",
   "nbconvert_exporter": "python",
   "pygments_lexer": "ipython3",
   "version": "3.8.10"
  }
 },
 "nbformat": 4,
 "nbformat_minor": 2
}
