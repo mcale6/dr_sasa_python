{
 "cells": [
  {
   "cell_type": "code",
   "execution_count": 7,
   "metadata": {},
   "outputs": [],
   "source": [
    "import os, sys\n",
    "from pathlib import Path\n",
    "import numpy as np\n",
    "import pandas as pd\n",
    "import sys\n",
    "sys.path.append(str(\"./dr_sasa_python/build/\"))\n",
    "sys.path.append(str(\"./dr_sasa_python/dr_sasa_python/bindings/python\"))\n",
    "import dr_sasa_python as sasa\n",
    "from dr_sasa_python.utils.structure_parser import StructureData, parse_pdb_file, superimpose_structures\n",
    "from dr_sasa_python.utils.utils import convert_to_dataframes\n"
   ]
  },
  {
   "cell_type": "code",
   "execution_count": null,
   "metadata": {},
   "outputs": [],
   "source": [
    "test_pdb = \"/home/alessio/dr_sasa_python/data/PRODIGYdataset/1ACB.pdb\"\n",
    "calc = sasa.SimpleSASA(probe_radius=1.4)\n",
    "result = calc.calculate(str(test_pdb), print_output=True)\n",
    "dfs = convert_to_dataframes(result)\n",
    "dfs.keys()\n",
    "# Direct atom access (dictionary)\n",
    "np.asarray([result[\"atoms\"][str(i)][\"surface\"][\"sasa\"] for i in list(result[\"atoms\"].keys())]).sum()"
   ]
  },
  {
   "cell_type": "code",
   "execution_count": null,
   "metadata": {},
   "outputs": [],
   "source": [
    "#Via dataframe\n",
    "atoms"
   ]
  },
  {
   "cell_type": "code",
   "execution_count": null,
   "metadata": {},
   "outputs": [],
   "source": [
    "test_pdb = \"/home/alessio/dr_sasa_python/data/PRODIGYdataset/1ACB.pdb\"\n",
    "calc = sasa.DecoupledSASA(probe_radius=1.4)\n",
    "result = calc.calculate(str(test_pdb), chains=[[\"A\"], [\"B\"]],  print_output=True)\n",
    "dfs = convert_to_dataframes(result)\n",
    "dfs.keys()"
   ]
  },
  {
   "cell_type": "code",
   "execution_count": null,
   "metadata": {},
   "outputs": [],
   "source": [
    "# Easy dataframes access\n",
    "overlaps = dfs[\"overlaps\"]\n",
    "atoms = dfs[\"atoms\"] # not actual results value accessible for DecoupledSASA check the overlaps dataframe and contact dataframe\n",
    "residues = dfs[\"residues\"]\n",
    "contacts = dfs[\"contacts\"]\n",
    "#Interface A/B (A^2):\t766.656 \n",
    "print(overlaps.area.sum()/2)\n",
    "print(overlaps.buried_area.sum()/2)\n",
    "print((result[\"inter_bsa_matrix\"][\"B_vs_A\"][\"matrix\"].sum() + result[\"inter_bsa_matrix\"][\"A_vs_B\"][\"matrix\"].sum())/2)\n",
    "print(result[\"intra_bsa_matrix\"][\"atom_matrix\"].sum() /2)\n",
    "print(overlaps.normalized_area.sum())  # almost"
   ]
  },
  {
   "cell_type": "code",
   "execution_count": null,
   "metadata": {},
   "outputs": [],
   "source": [
    "test_pdb = \"/home/alessio/dr_sasa_python/tests/data/3i40.pdb\"\n",
    "calc = sasa.GenericSASA(probe_radius=1.4)\n",
    "result = calc.calculate(str(test_pdb), chains=[[\"A\"], [\"B\"]], include_matrix=True, print_output=True)\n",
    "dfs = convert_to_dataframes(result)"
   ]
  },
  {
   "cell_type": "code",
   "execution_count": null,
   "metadata": {},
   "outputs": [],
   "source": [
    "overlaps = dfs[\"overlaps\"]\n",
    "atoms = dfs[\"atoms\"] # not actual results value accessible for DecoupledSASA check the overlaps dataframe and contact dataframe\n",
    "residues = dfs[\"residues\"]\n",
    "contacts = dfs[\"contacts\"]\n",
    "result[\"intra_bsa_matrix\"][\"residue_matrix\"][:len(residues[residues.chain ==\"A\"].index)].sum() # same as #A <--- B buried surface (A^2):\t791.494\n",
    "result[\"inter_bsa_matrix\"][\"A_vs_B\"][\"matrix\"].sum()\n",
    "##\n",
    "result[\"intra_bsa_matrix\"][\"residue_matrix\"][len(residues[residues.chain ==\"A\"].index):].sum() # same as A ---> B buried surface (A^2):\t741.817\n",
    "result[\"inter_bsa_matrix\"][\"B_vs_A\"][\"matrix\"].sum()\n",
    "##\n",
    "overlaps.area.sum()/2 #Interface A/B (A^2):\t766.656\n",
    "result[\"intra_bsa_matrix\"][\"atom_matrix\"].sum()/2\n",
    "##\n",
    "atoms[atoms.chain == \"A\"].sasa.sum() #Object A complexed surface (A^2):\t1198.94 calculation based on atom contact surfaces\n",
    "residues[residues.chain == \"A\"].dsasa.sum() # close values (calculated based on standards NACESS sasa values of per residues)\n",
    "atoms[atoms.chain == \"B\"].sasa.sum() #Object B complexed surface (A^2):\t2165.03\n",
    "## \n",
    "atoms.sasa.sum() #Selected complex surface (A^2):\t3363.97\n",
    "# Object A uncomplexed surface (A^2):\t1990.44\n",
    "residues[residues.chain == \"A\"].dsasa.sum()\n"
   ]
  },
  {
   "cell_type": "code",
   "execution_count": null,
   "metadata": {},
   "outputs": [],
   "source": [
    "residues[residues.chain == \"A\"].dsasa.sum() - residues[residues.chain == \"A\"].total_sasa.sum()\n",
    "residues[residues.chain == \"B\"].dsasa.sum() - residues[residues.chain == \"B\"].total_sasa.sum()"
   ]
  },
  {
   "cell_type": "code",
   "execution_count": null,
   "metadata": {},
   "outputs": [],
   "source": []
  }
 ],
 "metadata": {
  "kernelspec": {
   "display_name": "dr_sasa_venv",
   "language": "python",
   "name": "python3"
  },
  "language_info": {
   "codemirror_mode": {
    "name": "ipython",
    "version": 3
   },
   "file_extension": ".py",
   "mimetype": "text/x-python",
   "name": "python",
   "nbconvert_exporter": "python",
   "pygments_lexer": "ipython3",
   "version": "3.8.10"
  }
 },
 "nbformat": 4,
 "nbformat_minor": 2
}
