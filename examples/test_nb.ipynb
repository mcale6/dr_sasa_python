{
 "cells": [
  {
   "cell_type": "code",
   "execution_count": null,
   "metadata": {},
   "outputs": [],
   "source": [
    "import os, sys\n",
    "from pathlib import Path\n",
    "import numpy as np\n",
    "import pandas as pd\n",
    "sys.path.append(str(\"/home/alessio/dr_sasa_python/build/lib\"))\n",
    "sys.path.append(str(\"/home/alessio/dr_sasa_python/bindings/python/utils\"))\n",
    "import dr_sasa_py\n",
    "from structure_parser import *\n",
    "from utils import convert_to_dataframes"
   ]
  },
  {
   "cell_type": "code",
   "execution_count": null,
   "metadata": {},
   "outputs": [],
   "source": [
    "test_pdb = \"/home/alessio/dr_sasa_python/tests/data/pred.pdb\"\n",
    "calc = dr_sasa_py.GenericSASA(probe_radius=1.4)\n",
    "result = calc.calculate(str(test_pdb), include_matrix=True, print_output=True)\n",
    "dfs = convert_to_dataframes(result)\n",
    "overlaps = dfs[\"overlaps\"]\n",
    "atoms = dfs[\"atoms\"]\n",
    "residues = dfs[\"residues\"]\n",
    "overlaps[overlaps[\"source_residue\"].str.startswith(\"A_\")].overlap_area.sum() #A <--- B buried surface (A^2):\t791.494\n",
    "result[\"intra_bsa_matrix\"][\"residue_matrix\"][:len(residues[residues.chain ==\"A\"].index)].sum() # same as #A <--- B buried surface (A^2):\t791.494\n",
    "result[\"inter_bsa_matrix\"][\"A_vs_B\"][\"matrix\"].sum()\n",
    "##\n",
    "overlaps[overlaps[\"source_residue\"].str.startswith(\"B_\")].overlap_area.sum() #A ---> B buried surface (A^2):\t741.817\n",
    "result[\"intra_bsa_matrix\"][\"residue_matrix\"][len(residues[residues.chain ==\"A\"].index):].sum() # same as A ---> B buried surface (A^2):\t741.817\n",
    "result[\"inter_bsa_matrix\"][\"B_vs_A\"][\"matrix\"].sum()\n",
    "##\n",
    "overlaps.overlap_area.sum()/2 #Interface A/B (A^2):\t766.656\n",
    "result[\"intra_bsa_matrix\"][\"atom_matrix\"].sum()/2\n",
    "##\n",
    "atoms[atoms.chain == \"A\"].sasa.sum() #Object A complexed surface (A^2):\t1198.94 calculation based on atom contact surfaces\n",
    "residues[residues.chain == \"A\"].dsasa.sum() # close values (calculated based on standards NACESS sasa values of per residues)\n",
    "atoms[atoms.chain == \"B\"].sasa.sum() #Object B complexed surface (A^2):\t2165.03\n",
    "## \n",
    "atoms.sasa.sum() #Selected complex surface (A^2):\t3363.97\n",
    "#\n",
    "overlaps[overlaps[\"source_residue\"].str.startswith(\"A_\")].overlap_area.sum() + atoms[atoms.chain == \"A\"].sasa.sum() #  Object A uncomplexed surface (A^2):\t1990.44\n",
    "residues[residues.chain == \"A\"].dsasa.sum()\n"
   ]
  },
  {
   "cell_type": "code",
   "execution_count": null,
   "metadata": {},
   "outputs": [],
   "source": [
    "test_pdb = \"/home/alessio/dr_sasa_python/tests/data/6gwp.pdb\"\n",
    "calc = dr_sasa_py.GenericSASA(probe_radius=1.4)\n",
    "result = calc.calculate(str(test_pdb), chains=[[\"A\"], [\"B\"]], print_output=False)"
   ]
  },
  {
   "cell_type": "code",
   "execution_count": null,
   "metadata": {},
   "outputs": [],
   "source": [
    "result"
   ]
  },
  {
   "cell_type": "code",
   "execution_count": null,
   "metadata": {},
   "outputs": [],
   "source": [
    "np.asarray([result[\"atom_data\"][str(i)][\"sasa\"] for i in list(result[\"atom_data\"].keys())])"
   ]
  },
  {
   "cell_type": "code",
   "execution_count": null,
   "metadata": {},
   "outputs": [],
   "source": [
    "def calculate_dr_sasa(pdb_file):\n",
    "    calculator = dr_sasa_py.SimpleSASA(probe_radius=1.4)\n",
    "    result = calculator.calculate(str(pdb_file), print_output=True) \n",
    "    return np.asarray([result[\"atom_data\"][str(i)][\"sasa\"] for i in list(result[\"atom_data\"].keys())])"
   ]
  },
  {
   "cell_type": "code",
   "execution_count": null,
   "metadata": {},
   "outputs": [],
   "source": [
    "p = \"/home/alessio/dr_sasa_python/tests/data/9f5l.pdb\"\n",
    "v = calculate_dr_sasa(p)"
   ]
  },
  {
   "cell_type": "code",
   "execution_count": null,
   "metadata": {},
   "outputs": [],
   "source": [
    "from Bio.PDB import *\n",
    "\n",
    "files = [\n",
    "   \"1A2K.atmasa\",\n",
    "   \"1ACB.atmasa\", \n",
    "   \"1AK4.atmasa\",\n",
    "   \"1AKJ.atmasa\",\n",
    "   \"1ATN.atmasa\",\n",
    "   \"1AVZ.atmasa\",\n",
    "   \"1B6C.atmasa\",\n",
    "   \"1BJ1.atmasa\",\n",
    "   \"1BUH.atmasa\",\n",
    "   \"1BVK.atmasa\"\n",
    "]\n",
    "\n",
    "c_sasa = {}\n",
    "py_sasa = {}\n",
    "\n",
    "for id_ in files:\n",
    "   # Get C++ SASA values from CSV\n",
    "   c_sasa[id_] = pd.read_csv(f\"/home/alessio/dr_sasa_python/{id_}\", sep=\"\\t\")[\"total_ASA\"].tolist()\n",
    "   \n",
    "   # Get Python SASA values from PDB\n",
    "   pdb_file = f\"/home/alessio/dr_sasa_python/data/PRODIGYdataset_fixed/{id_.split('.')[0]}.pdb\"\n",
    "   py_sasa[id_] = calculate_dr_sasa(pdb_file)\n",
    "   break\n",
    "# Create DataFrame\n",
    "df = pd.DataFrame({\n",
    "   'pdb': list(c_sasa.keys()),\n",
    "   'c_sasa': list(c_sasa.values()),\n",
    "   'py_sasa': list(py_sasa.values())\n",
    "})\n",
    "\n",
    "\n",
    "    "
   ]
  },
  {
   "cell_type": "code",
   "execution_count": null,
   "metadata": {},
   "outputs": [],
   "source": [
    "import seaborn as sns\n",
    "import matplotlib.pyplot as plt\n",
    "\n",
    "for index, row in df.iterrows():\n",
    "    plt.figure(figsize=(10, 6))\n",
    "    sns.scatterplot(x=row['c_sasa'][::100], y=row['py_sasa'][::100])\n",
    "    plt.plot([0, max(row['c_sasa'])], [0, max(row['c_sasa'])], '--k')  # diagonal line\n",
    "    plt.xlabel('C++ SASA Values')\n",
    "    plt.ylabel('Python SASA Values') \n",
    "    plt.title(f'SASA Comparison for {row[\"pdb\"]}')\n",
    "    plt.show()\n"
   ]
  },
  {
   "cell_type": "code",
   "execution_count": null,
   "metadata": {},
   "outputs": [],
   "source": [
    "sns.scatterplot(x=df.c_sasa)"
   ]
  },
  {
   "cell_type": "code",
   "execution_count": null,
   "metadata": {},
   "outputs": [],
   "source": [
    "pd.read_csv(f\"/home/alessio/dr_sasa_python/{id_}\", sep=\"\\t\")"
   ]
  },
  {
   "cell_type": "code",
   "execution_count": null,
   "metadata": {},
   "outputs": [],
   "source": [
    "result[\"atom_data\"].keys()"
   ]
  },
  {
   "cell_type": "code",
   "execution_count": null,
   "metadata": {},
   "outputs": [],
   "source": [
    "dfs = convert_to_dataframes(result)\n",
    "overlaps = dfs[\"overlaps\"]\n",
    "atoms = dfs[\"atoms\"]\n",
    "residues = dfs[\"residues\"]"
   ]
  },
  {
   "cell_type": "code",
   "execution_count": null,
   "metadata": {},
   "outputs": [],
   "source": [
    "test_pdb = \"/home/alessio/dr_sasa_python/tests/data/3i40.pdb\"\n",
    "calc = dr_sasa_py.DecoupledSASA(probe_radius=1.4)\n",
    "result = calc.calculate(str(test_pdb))\n",
    "result[\"residue_data\"]"
   ]
  },
  {
   "cell_type": "code",
   "execution_count": null,
   "metadata": {},
   "outputs": [],
   "source": [
    "test_pdb = \"/home/alessio/dr_sasa_python/PRODIGYdataset/1E6E.pdb\"\n",
    "calc = dr_sasa_py.DecoupdledSASA(probe_radius=1.4)\n",
    "result = calc.calculate(str(test_pdb), include_matrix=True, print_output=True)\n",
    "dfs = convert_to_dataframes(result)\n",
    "overlaps = dfs[\"overlaps\"]\n",
    "atoms = dfs[\"atoms\"]\n",
    "residues = dfs[\"residues\"]\n",
    "overlaps[overlaps[\"source_residue\"].str.startswith(\"A_\")].overlap_area.sum() #A <--- B buried surface (A^2):\t791.494\n",
    "result[\"intra_bsa_matrix\"][\"residue_matrix\"][:len(residues[residues.chain ==\"A\"].index)].sum() # same as #A <--- B buried surface (A^2):\t791.494\n",
    "result[\"inter_bsa_matrix\"][\"A_vs_B\"][\"matrix\"].sum()\n",
    "##\n",
    "overlaps[overlaps[\"source_residue\"].str.startswith(\"B_\")].overlap_area.sum() #A ---> B buried surface (A^2):\t741.817\n",
    "result[\"intra_bsa_matrix\"][\"residue_matrix\"][len(residues[residues.chain ==\"A\"].index):].sum() # same as A ---> B buried surface (A^2):\t741.817\n",
    "result[\"inter_bsa_matrix\"][\"B_vs_A\"][\"matrix\"].sum()\n",
    "##\n",
    "overlaps.overlap_area.sum()/2 #Interface A/B (A^2):\t766.656\n",
    "result[\"intra_bsa_matrix\"][\"atom_matrix\"].sum()/2\n",
    "##\n",
    "atoms[atoms.chain == \"A\"].sasa.sum() #Object A complexed surface (A^2):\t1198.94 calculation based on atom contact surfaces\n",
    "residues[residues.chain == \"A\"].dsasa.sum() # close values (calculated based on standards NACESS sasa values of per residues)\n",
    "atoms[atoms.chain == \"B\"].sasa.sum() #Object B complexed surface (A^2):\t2165.03\n",
    "## \n",
    "atoms.sasa.sum() #Selected complex surface (A^2):\t3363.97\n",
    "#\n",
    "overlaps[overlaps[\"source_residue\"].str.startswith(\"A_\")].overlap_area.sum() + atoms[atoms.chain == \"A\"].sasa.sum() #  Object A uncomplexed surface (A^2):\t1990.44\n",
    "residues[residues.chain == \"A\"].dsasa.sum()"
   ]
  },
  {
   "cell_type": "code",
   "execution_count": null,
   "metadata": {},
   "outputs": [],
   "source": [
    "residues[residues.chain == \"A\"].dsasa.sum() - residues[residues.chain == \"A\"].total_sasa.sum()\n",
    "residues[residues.chain == \"B\"].dsasa.sum() - residues[residues.chain == \"B\"].total_sasa.sum()"
   ]
  },
  {
   "cell_type": "code",
   "execution_count": null,
   "metadata": {},
   "outputs": [],
   "source": [
    "residues.dsasa.sum() - "
   ]
  },
  {
   "cell_type": "code",
   "execution_count": null,
   "metadata": {},
   "outputs": [],
   "source": [
    "residues[residues.chain == \"B\"].dsasa.sum()"
   ]
  },
  {
   "cell_type": "code",
   "execution_count": null,
   "metadata": {},
   "outputs": [],
   "source": [
    "residues[residues.chain == \"B\"].total_sasa.sum()"
   ]
  },
  {
   "cell_type": "code",
   "execution_count": null,
   "metadata": {},
   "outputs": [],
   "source": [
    "result[\"intra_bsa_matrix\"][\"residue_matrix\"][:21].sum()\n",
    "result[\"inter_bsa_matrix\"][\"B_vs_A\"][\"matrix\"].sum()"
   ]
  },
  {
   "cell_type": "code",
   "execution_count": null,
   "metadata": {},
   "outputs": [],
   "source": [
    "residues[residues.chain == \"A\"].dsasa.sum()"
   ]
  },
  {
   "cell_type": "code",
   "execution_count": null,
   "metadata": {},
   "outputs": [],
   "source": [
    "residues = dfs[\"residues\"]\n",
    "residues[residues.chain == \"A\"].standard_sasa.sum()"
   ]
  },
  {
   "cell_type": "markdown",
   "metadata": {},
   "source": [
    "Object A complexed surface (A^2):\t1201.52\n",
    "Object B complexed surface (A^2):\t2161.36\n",
    "Object A uncomplexed surface (A^2):\t1998.48\n",
    "Object B uncomplexed surface (A^2):\t2905.35\n",
    "A <--- B buried surface (A^2):\t796.957\n",
    "A ---> B buried surface (A^2):\t743.99\n",
    "Interface A/B (A^2):\t770.474"
   ]
  },
  {
   "cell_type": "markdown",
   "metadata": {},
   "source": [
    "Selected complex surface (A^2):\t3363.97\n",
    "Object A complexed surface (A^2):\t1198.94\n",
    "Object B complexed surface (A^2):\t2165.03\n",
    "Object A uncomplexed surface (A^2):\t1990.44\n",
    "Object B uncomplexed surface (A^2):\t2906.85\n",
    "A <--- B buried surface (A^2):\t791.494\n",
    "A ---> B buried surface (A^2):\t741.817\n",
    "Interface A/B (A^2):\t766.656"
   ]
  },
  {
   "cell_type": "markdown",
   "metadata": {},
   "source": []
  },
  {
   "cell_type": "code",
   "execution_count": null,
   "metadata": {},
   "outputs": [],
   "source": [
    "test_pdb = \"/home/alessio/dr_sasa_python/tests/data/3i40.pdb\"\n",
    "calc = dr_sasa_py.DecoupledSASA(probe_radius=1.4)\n",
    "result = calc.calculate(str(test_pdb), chains=[['A']], print_output=True)"
   ]
  },
  {
   "cell_type": "code",
   "execution_count": null,
   "metadata": {},
   "outputs": [],
   "source": [
    "result"
   ]
  },
  {
   "cell_type": "code",
   "execution_count": null,
   "metadata": {},
   "outputs": [],
   "source": [
    "pd.read_csv(\"/home/alessio/dr_sasa_python/tests/test_results/3i40.atmasa\", sep=\"\\t\")\n",
    "pd.read_csv(\"/home/alessio/dr_sasa_python/my_analysis\", sep=\"\\t\")"
   ]
  }
 ],
 "metadata": {
  "kernelspec": {
   "display_name": "dr_sasa_venv",
   "language": "python",
   "name": "python3"
  },
  "language_info": {
   "codemirror_mode": {
    "name": "ipython",
    "version": 3
   },
   "file_extension": ".py",
   "mimetype": "text/x-python",
   "name": "python",
   "nbconvert_exporter": "python",
   "pygments_lexer": "ipython3",
   "version": "3.8.10"
  }
 },
 "nbformat": 4,
 "nbformat_minor": 2
}
