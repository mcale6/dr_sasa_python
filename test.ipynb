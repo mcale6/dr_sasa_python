{
 "cells": [
  {
   "cell_type": "code",
   "execution_count": null,
   "metadata": {},
   "outputs": [],
   "source": [
    "import os, sys\n",
    "from pathlib import Path\n",
    "import numpy as np\n",
    "import pandas as pd\n",
    "# Try different potential build paths\n",
    "build_paths = [\n",
    "    Path(\"build/lib\"),\n",
    "    Path(\"build/lib.linux-x86_64-cpython-310\"),  \n",
    "    Path(\"build/lib.linux-x86_64-3.10\"),         \n",
    "    Path(\"build/lib.macosx-10.9-x86_64-3.10\"),   \n",
    "    Path(\"build\"),                               \n",
    "]\n",
    "\n",
    "# Add all potential paths\n",
    "for build_path in build_paths:\n",
    "    if build_path.exists():\n",
    "        sys.path.append(str(build_path.absolute()))\n",
    "        print(f\"Added build path: {build_path.absolute()}\")\n",
    "\n",
    "import dr_sasa_py"
   ]
  },
  {
   "cell_type": "code",
   "execution_count": 21,
   "metadata": {},
   "outputs": [],
   "source": [
    "from utils import convert_to_dataframes, get_analysis_summary\n",
    "def get_dr_sasa_results(results):\n",
    "    dfs = convert_to_dataframes(results)\n",
    "    analysis = get_analysis_summary(dfs)\n",
    "    return dfs, analysis"
   ]
  },
  {
   "cell_type": "code",
   "execution_count": null,
   "metadata": {},
   "outputs": [],
   "source": [
    "get_dr_sasa_results()"
   ]
  },
  {
   "cell_type": "code",
   "execution_count": null,
   "metadata": {},
   "outputs": [],
   "source": [
    "test_pdb = \"/home/alessio/dr_sasa_python/tests/data/3i40.pdb\"\n",
    "calc = dr_sasa_py.SimpleSASA(probe_radius=1.4)\n",
    "result = calc.calculate(test_pdb)\n"
   ]
  },
  {
   "cell_type": "code",
   "execution_count": 25,
   "metadata": {},
   "outputs": [],
   "source": [
    "dfs, analysis = get_dr_sasa_results(result)\n"
   ]
  },
  {
   "cell_type": "code",
   "execution_count": null,
   "metadata": {},
   "outputs": [],
   "source": [
    "result[\"sasa\"][\"values\"].sum()"
   ]
  },
  {
   "cell_type": "code",
   "execution_count": null,
   "metadata": {},
   "outputs": [],
   "source": [
    "total_sasa = result[\"sasa\"][\"values\"].sum()\n",
    "per_residue_sasa = {}\n",
    "for i, resname in enumerate(result[\"atom_info\"][\"residue_names\"]):\n",
    "    per_residue_sasa[resname] = result[\"sasa\"][\"values\"][i]\n",
    "\n",
    "# Molecular composition\n",
    "mol_composition = result[\"molecular\"][\"atoms_by_type\"]\n",
    "print(f\"Molecule contains: {mol_composition}\")\n",
    "\n",
    "# Interface analysis (for applicable modes)\n",
    "if \"interface\" in result:\n",
    "    print(f\"Total interface area: {result['interface']['total_area']}\")\n",
    "    print(f\"Buried surface area: {result['interface']['buried_surface_area']}\")"
   ]
  },
  {
   "cell_type": "code",
   "execution_count": 7,
   "metadata": {},
   "outputs": [],
   "source": [
    "import pandas as pd"
   ]
  },
  {
   "cell_type": "code",
   "execution_count": null,
   "metadata": {},
   "outputs": [],
   "source": []
  }
 ],
 "metadata": {
  "kernelspec": {
   "display_name": "dr_sasa_venv",
   "language": "python",
   "name": "python3"
  },
  "language_info": {
   "codemirror_mode": {
    "name": "ipython",
    "version": 3
   },
   "file_extension": ".py",
   "mimetype": "text/x-python",
   "name": "python",
   "nbconvert_exporter": "python",
   "pygments_lexer": "ipython3",
   "version": "3.8.10"
  }
 },
 "nbformat": 4,
 "nbformat_minor": 2
}
